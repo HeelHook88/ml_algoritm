{
 "cells": [
  {
   "cell_type": "markdown",
   "metadata": {},
   "source": [
    "### 1.*Измените функцию calc_logloss так, чтобы нули по возможности не попадали в np.log."
   ]
  },
  {
   "cell_type": "code",
   "execution_count": 1,
   "metadata": {},
   "outputs": [],
   "source": [
    "import numpy as np\n",
    "import matplotlib.pyplot as plt"
   ]
  },
  {
   "cell_type": "code",
   "execution_count": 2,
   "metadata": {},
   "outputs": [],
   "source": [
    "def calc_logloss(y, y_pred, epsilon = 1e-12):    \n",
    "    y_pred[y_pred==0] += epsilon\n",
    "    y_pred[y_pred==1] -= epsilon\n",
    "    err = - np.mean(y * np.log(y_pred) + (1.0 - y) * np.log(1.0 - y_pred))\n",
    "    return err"
   ]
  },
  {
   "cell_type": "markdown",
   "metadata": {},
   "source": [
    "### 2.Подберите аргументы функции eval_model для логистической регрессии таким образом, чтобы log loss был минимальным."
   ]
  },
  {
   "cell_type": "code",
   "execution_count": 3,
   "metadata": {},
   "outputs": [],
   "source": [
    "X = np.array([ [   1,    1,  500,    1],\n",
    "               [   1,    1,  700,    1],\n",
    "               [   1,    2,  750,    2],\n",
    "               [   1,    5,  600,    1],\n",
    "               [   1,    3, 1450,    2],\n",
    "               [   1,    0,  800,    1],\n",
    "               [   1,    5, 1500,    3],\n",
    "               [   1,   10, 2000,    3],\n",
    "               [   1,    1,  450,    1],\n",
    "               [   1,    2, 1000,    2]], dtype = np.float64)\n",
    "\n",
    "y = np.array([0, 0, 1, 0, 1, 0, 1, 0, 1, 1], dtype = np.float64)"
   ]
  },
  {
   "cell_type": "code",
   "execution_count": 4,
   "metadata": {},
   "outputs": [],
   "source": [
    "def standard_scale(x):\n",
    "    res = (x - x.mean()) / x.std()\n",
    "    return res\n",
    "\n",
    "def sigmoid(z):\n",
    "    res = 1 / (1 + np.exp(-z))\n",
    "    return res\n",
    "\n",
    "def min_max_scale(X):\n",
    "    return (X - X.min()) / (X.max() - X.min())"
   ]
  },
  {
   "cell_type": "code",
   "execution_count": 5,
   "metadata": {},
   "outputs": [],
   "source": [
    "X_st = X.copy().astype(np.float64)\n",
    "\n",
    "for i in range(X_st.shape[1]-1):\n",
    "    X_st[:, i+1] = min_max_scale(X_st[:, i+1])\n",
    "    \n"
   ]
  },
  {
   "cell_type": "code",
   "execution_count": 6,
   "metadata": {},
   "outputs": [],
   "source": [
    "def eval_model(X, y, iterations, eta=1e-4):\n",
    "    np.random.seed(42)\n",
    "    W = np.random.randn(X.shape[1])\n",
    "    n = X.shape[0]\n",
    "    \n",
    "    err_history = []\n",
    "    for i in range(iterations):\n",
    "        z = np.dot(X, W)\n",
    "        y_pred = sigmoid(z)\n",
    "        err = calc_logloss(y, y_pred)\n",
    "        \n",
    "        dQ = 1/n * X.T @ (y_pred - y)\n",
    "        W -= eta * dQ\n",
    "        if i % (iterations / 10) == 0:\n",
    "            print(i, W, err)\n",
    "        err_history.append(err)\n",
    "    plt.plot(err_history)\n",
    "    return W"
   ]
  },
  {
   "cell_type": "code",
   "execution_count": 7,
   "metadata": {},
   "outputs": [
    {
     "name": "stdout",
     "output_type": "stream",
     "text": [
      "0 [ 0.47225621 -0.14981514  0.63779595  1.51739065] 0.7829624915671743\n",
      "1000 [-0.14558171 -3.22535128 -0.6968884   3.83326369] 0.4540804218358369\n",
      "2000 [-0.03006196 -4.84862373 -1.44604879  5.64902032] 0.3882346722278642\n",
      "3000 [ 0.05062264 -5.96448518 -2.05377105  7.01897999] 0.3530373433454378\n",
      "4000 [ 0.11868505 -6.80863084 -2.5736588   8.1260317 ] 0.3308248249260689\n",
      "5000 [ 0.18001028 -7.48608639 -3.03436047  9.06319695] 0.3152558559015821\n",
      "6000 [ 0.23677032 -8.05213134 -3.45269494  9.88290462] 0.3035317128814321\n",
      "7000 [ 0.29003347 -8.53928833 -3.83919483 10.61718107] 0.2942343059743749\n",
      "8000 [ 0.34044499 -8.96822949 -4.2008034  11.28683498] 0.2865707965002714\n",
      "9000 [ 0.38844821 -9.35285326 -4.54229961 11.90605381] 0.2800639314388581\n"
     ]
    },
    {
     "data": {
      "image/png": "[encoded data removed]",
      "text/plain": [
       "<Figure size 432x288 with 1 Axes>"
      ]
     },
     "metadata": {
      "needs_background": "light"
     },
     "output_type": "display_data"
    }
   ],
   "source": [
    "W = eval_model(X_st, y, iterations=10000, eta=1e-1)"
   ]
  },
  {
   "cell_type": "markdown",
   "metadata": {},
   "source": [
    "### 3. Создайте функцию calc_pred_proba, возвращающую предсказанную вероятность класса 1 (на вход подаются W, который уже посчитан функцией eval_model и X, на выходе - массив y_pred_proba)."
   ]
  },
  {
   "cell_type": "code",
   "execution_count": 8,
   "metadata": {},
   "outputs": [],
   "source": [
    "def calc_pred_proba(W, X):\n",
    "    z = np.dot(W, X.T)\n",
    "    y_pred_proba = sigmoid(z)\n",
    "    return y_pred_proba"
   ]
  },
  {
   "cell_type": "code",
   "execution_count": 9,
   "metadata": {},
   "outputs": [
    {
     "data": {
      "text/plain": [
       "array([0.33338316, 0.21066949, 0.97799037, 0.00748057, 0.65155054,\n",
       "       0.33970183, 0.99159526, 0.16101487, 0.36913486, 0.95298153])"
      ]
     },
     "execution_count": 9,
     "metadata": {},
     "output_type": "execute_result"
    }
   ],
   "source": [
    "y_pred_proba = calc_pred_proba(W , X_st)\n",
    "y_pred_proba"
   ]
  },
  {
   "cell_type": "markdown",
   "metadata": {},
   "source": [
    "### 4. Создайте функцию calc_pred, возвращающую предсказанный класс (на вход подаются W, который уже посчитан функцией eval_model и X, на выходе - массив y_pred)."
   ]
  },
  {
   "cell_type": "code",
   "execution_count": 10,
   "metadata": {},
   "outputs": [],
   "source": [
    "def calc_pred(W, X, split_level=0.5):\n",
    "    z = np.dot(W, X.T)\n",
    "    y_pred = sigmoid(z)    \n",
    "    y_pred[y_pred >= split_level] = 1\n",
    "    y_pred[y_pred < split_level] = 0\n",
    "    return y_pred"
   ]
  },
  {
   "cell_type": "code",
   "execution_count": 11,
   "metadata": {},
   "outputs": [
    {
     "data": {
      "text/plain": [
       "array([0., 0., 1., 0., 1., 0., 1., 0., 0., 1.])"
      ]
     },
     "execution_count": 11,
     "metadata": {},
     "output_type": "execute_result"
    }
   ],
   "source": [
    "y_pred = calc_pred(W, X_st, 0.5)"
   ]
  },
  {
   "cell_type": "markdown",
   "metadata": {},
   "source": [
    "### 5. * Реализуйте функции для подсчета Accuracy, матрицы ошибок, точности и полноты, а также F1 score."
   ]
  },
  {
   "cell_type": "code",
   "execution_count": 27,
   "metadata": {},
   "outputs": [],
   "source": [
    "def metrics(y, y_pred):    \n",
    "    accuracy = ((y-y_pred)==0).sum() / len(y)\n",
    "\n",
    "    TP = y[(y - y_pred) == 0].sum().astype(int)\n",
    "    FP = ((y - y_pred) == -1).sum().astype(int)\n",
    "    TN = (y[(y - y_pred) == 0]==0).sum().astype(int)\n",
    "    FN = ((y - y_pred) == 1).sum().astype(int)\n",
    "\n",
    "    print(f'\\nМатрица ошибок\\n\\n1:\\t{int(TP)}\\t{FP}\\n0:\\t{FN}\\t{TN}\\n')\n",
    "\n",
    "    precision = TP / (TP + FP)\n",
    "    recall = TP / (TP + FN)\n",
    "    F1_score = 2 * precision * recall / (precision + recall)\n",
    "\n",
    "    print(f'accuracy = {accuracy}')\n",
    "    print(f'precision = {round(precision, 2)}')\n",
    "    print(f'recall = {recall}')\n",
    "    print(f'F1_score = {round(F1_score, 2)}')"
   ]
  },
  {
   "cell_type": "code",
   "execution_count": 28,
   "metadata": {},
   "outputs": [
    {
     "name": "stdout",
     "output_type": "stream",
     "text": [
      "\n",
      "Матрица ошибок\n",
      "\n",
      "1:\t4\t0\n",
      "0:\t1\t5\n",
      "\n",
      "accuracy = 0.9\n",
      "precision = 1.0\n",
      "recall = 0.8\n",
      "F1_score = 0.89\n"
     ]
    }
   ],
   "source": [
    "metrics(y, y_pred)"
   ]
  },
  {
   "cell_type": "markdown",
   "metadata": {},
   "source": [
    "### 6. Могла ли модель переобучиться? Почему?\n"
   ]
  },
  {
   "cell_type": "markdown",
   "metadata": {},
   "source": [
    "Может потому что данных слишком мало , модель подстроится под тренировочные данные а на тесте будет показывать себя плохо"
   ]
  }
 ],
 "metadata": {
  "kernelspec": {
   "display_name": "Python 3",
   "language": "python",
   "name": "python3"
  },
  "language_info": {
   "codemirror_mode": {
    "name": "ipython",
    "version": 3
   },
   "file_extension": ".py",
   "mimetype": "text/x-python",
   "name": "python",
   "nbconvert_exporter": "python",
   "pygments_lexer": "ipython3",
   "version": "3.7.7"
  }
 },
 "nbformat": 4,
 "nbformat_minor": 4
}
