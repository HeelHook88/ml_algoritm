{
 "cells": [
  {
   "cell_type": "markdown",
   "metadata": {},
   "source": [
    "## 1. Подберите скорость обучения (eta) и количество итераций"
   ]
  },
  {
   "cell_type": "code",
   "execution_count": 1,
   "metadata": {},
   "outputs": [],
   "source": [
    "import numpy as np\n",
    "import matplotlib.pyplot as plt\n",
    "\n"
   ]
  },
  {
   "cell_type": "code",
   "execution_count": 2,
   "metadata": {},
   "outputs": [],
   "source": [
    "def calc_mse(y, y_pred):\n",
    "    err = np.mean((y - y_pred)**2)\n",
    "    return err"
   ]
  },
  {
   "cell_type": "code",
   "execution_count": 3,
   "metadata": {},
   "outputs": [],
   "source": [
    "X = np.array([[ 1,  1],\n",
    "              [ 1,  1],\n",
    "              [ 1,  2],\n",
    "              [ 1,  5],\n",
    "              [ 1,  3],\n",
    "              [ 1,  0],\n",
    "              [ 1,  5],\n",
    "              [ 1, 10],\n",
    "              [ 1,  1],\n",
    "              [ 1,  2]])\n"
   ]
  },
  {
   "cell_type": "code",
   "execution_count": 4,
   "metadata": {},
   "outputs": [],
   "source": [
    "y = np.array([45, 55, 50, 55, 60, 35, 75, 80, 50, 60])"
   ]
  },
  {
   "cell_type": "code",
   "execution_count": null,
   "metadata": {},
   "outputs": [],
   "source": []
  },
  {
   "cell_type": "code",
   "execution_count": 5,
   "metadata": {
    "scrolled": true
   },
   "outputs": [
    {
     "name": "stdout",
     "output_type": "stream",
     "text": [
      "Number of objects = 2        \n",
      "Learning rate = 0.01        \n",
      "Initial weights = [1.  0.5] \n",
      "\n",
      "Iteration #0: W_new = [ 6.4  19.35], MSE = 3047.75\n",
      "Iteration #10: W_new = [18.77319138  8.6270072 ], MSE = 398.58\n",
      "Iteration #20: W_new = [27.15289315  7.06014716], MSE = 207.1\n",
      "Iteration #30: W_new = [32.4241672   6.10426679], MSE = 124.63\n",
      "Iteration #40: W_new = [35.85213314  5.48265802], MSE = 86.53\n",
      "Iteration #50: W_new = [38.15155609  5.06569312], MSE = 67.79\n",
      "Iteration #60: W_new = [39.73790007  4.7780341 ], MSE = 58.04\n",
      "Iteration #70: W_new = [40.86051023  4.57446606], MSE = 52.69\n",
      "Iteration #80: W_new = [41.67349173  4.4270444 ], MSE = 49.62\n",
      "Iteration #90: W_new = [42.2746909  4.3180262], MSE = 47.78\n",
      "Iteration #100: W_new = [42.727794    4.23586294], MSE = 46.63\n",
      "Iteration #110: W_new = [43.07521157  4.17286412], MSE = 45.89\n",
      "Iteration #120: W_new = [43.34578807  4.12379924], MSE = 45.4\n",
      "Iteration #130: W_new = [43.55952748  4.08504089], MSE = 45.06\n",
      "Iteration #140: W_new = [43.73055537  4.05402762], MSE = 44.82\n",
      "Iteration #150: W_new = [43.8690146   4.02892018], MSE = 44.65\n",
      "Iteration #160: W_new = [43.9823022   4.00837722], MSE = 44.53\n",
      "Iteration #170: W_new = [44.0758912   3.99140629], MSE = 44.44\n",
      "Iteration #180: W_new = [44.15388587  3.97726316], MSE = 44.36\n",
      "Iteration #190: W_new = [44.21940291  3.96538266], MSE = 44.31\n",
      "Iteration #200: W_new = [44.27483692  3.95533056], MSE = 44.26\n",
      "Iteration #210: W_new = [44.32204803  3.94676955], MSE = 44.23\n",
      "Iteration #220: W_new = [44.36249605  3.93943492], MSE = 44.2\n",
      "Iteration #230: W_new = [44.39733771  3.93311693], MSE = 44.18\n",
      "Iteration #240: W_new = [44.42749793  3.92764784], MSE = 44.16\n",
      "Iteration #250: W_new = [44.45372252  3.92289241], MSE = 44.14\n",
      "Iteration #260: W_new = [44.47661773  3.91874072], MSE = 44.13\n",
      "Iteration #270: W_new = [44.49668006  3.91510272], MSE = 44.12\n",
      "Iteration #280: W_new = [44.51431902  3.91190417], MSE = 44.11\n",
      "Iteration #290: W_new = [44.5298746  3.9090834], MSE = 44.1\n",
      "Iteration #300: W_new = [44.54363088  3.90658891], MSE = 44.1\n"
     ]
    }
   ],
   "source": [
    "n = X.shape[1]\n",
    "\n",
    "eta = 1e-2\n",
    "n_iter = 301\n",
    "\n",
    "finlist = []\n",
    "list_of_iter = []\n",
    "list_of_err = []\n",
    "\n",
    "\n",
    "W = np.array([1, 0.5])\n",
    "print(f'Number of objects = {n} \\\n",
    "       \\nLearning rate = {eta} \\\n",
    "       \\nInitial weights = {W} \\n')\n",
    "\n",
    "for i in range(n_iter):\n",
    "    y_pred = np.dot(X, W)\n",
    "    err = calc_mse(y, y_pred)\n",
    "    for k in range(W.shape[0]):\n",
    "        W[k] -= eta * (1/n * 2 * X[:, k] @ (y_pred - y))\n",
    "    if i % 10 == 0:\n",
    "        eta /= 1.1\n",
    "        print(f'Iteration #{i}: W_new = {W}, MSE = {round(err, 2)}')\n",
    "        \n",
    "    list_of_iter.append(i)\n",
    "    list_of_err.append(err) \n",
    "    pair = (list_of_iter, list_of_err)\n",
    "    finlist.append(pair)\n",
    "    "
   ]
  },
  {
   "cell_type": "code",
   "execution_count": 6,
   "metadata": {},
   "outputs": [
    {
     "name": "stderr",
     "output_type": "stream",
     "text": [
      "No handles with labels found to put in legend.\n"
     ]
    },
    {
     "data": {
      "text/plain": [
       "<matplotlib.legend.Legend at 0x1ae216fb488>"
      ]
     },
     "execution_count": 6,
     "metadata": {},
     "output_type": "execute_result"
    },
    {
     "data": {
      "image/png": "[encoded data removed]",
      "text/plain": [
       "<Figure size 720x720 with 1 Axes>"
      ]
     },
     "metadata": {
      "needs_background": "light"
     },
     "output_type": "display_data"
    }
   ],
   "source": [
    "plt.rcParams[\"figure.figsize\"]=10, 10\n",
    "\n",
    "for i in range(len(finlist)):\n",
    "    plt.plot(finlist[i][0], finlist[i][1])\n",
    "plt.legend()"
   ]
  },
  {
   "cell_type": "markdown",
   "metadata": {},
   "source": [
    "Ответ : как видно по графику и по выводу результатов, оптимальная скорость обучения в данном случае 0.01 и колличество итераций 120 - 130"
   ]
  },
  {
   "cell_type": "markdown",
   "metadata": {},
   "source": [
    "## 2*. В этом коде мы избавляемся от итераций по весам, но тут есть ошибка, исправьте ее"
   ]
  },
  {
   "cell_type": "code",
   "execution_count": 7,
   "metadata": {},
   "outputs": [],
   "source": [
    "X = np.array([[ 1,  1],\n",
    "              [ 1,  1],\n",
    "              [ 1,  2],\n",
    "              [ 1,  5],\n",
    "              [ 1,  3],\n",
    "              [ 1,  0],\n",
    "              [ 1,  5],\n",
    "              [ 1, 10],\n",
    "              [ 1,  1],\n",
    "              [ 1,  2]])\n",
    "\n",
    "y = np.array([45, 55, 50, 55, 60, 35, 75, 80, 50, 60])\n",
    "\n",
    "# Первое изменение это необходимо транспонировать матрицу Х\n",
    "X = np.transpose(X)"
   ]
  },
  {
   "cell_type": "markdown",
   "metadata": {},
   "source": [
    "y = np.array([[1, 45],\n",
    "              [1, 55],\n",
    "              [1, 50],\n",
    "              [1, 55],\n",
    "              [1, 60],\n",
    "              [1, 35],\n",
    "              [1, 75],\n",
    "              [1, 80],\n",
    "              [1, 50],\n",
    "              [1, 60]])"
   ]
  },
  {
   "cell_type": "code",
   "execution_count": 8,
   "metadata": {
    "scrolled": true
   },
   "outputs": [
    {
     "name": "stdout",
     "output_type": "stream",
     "text": [
      "Number of objects = 2        \n",
      "Learning rate = 0.01        \n",
      "Initial weights = [1.  0.5] \n",
      "\n",
      "Iteration #0: W_new = [ 6.4  19.35], MSE = 3047.75\n",
      "Iteration #10: W_new = [19.96966932  8.87179137], MSE = 379.6\n",
      "Iteration #20: W_new = [29.27719328  6.70531799], MSE = 172.93\n",
      "Iteration #30: W_new = [35.16120834  5.60976141], MSE = 94.66\n",
      "Iteration #40: W_new = [38.85365942  4.93848587], MSE = 63.9\n",
      "Iteration #50: W_new = [41.16920131  4.51849616], MSE = 51.81\n",
      "Iteration #60: W_new = [42.62118483  4.25519525], MSE = 47.05\n",
      "Iteration #70: W_new = [43.53165976  4.0900943 ], MSE = 45.18\n",
      "Iteration #80: W_new = [44.10257814  3.98656703], MSE = 44.45\n",
      "Iteration #90: W_new = [44.46057568  3.9216497 ], MSE = 44.16\n",
      "Iteration #100: W_new = [44.68506002  3.88094292], MSE = 44.04\n",
      "Iteration #110: W_new = [44.82582417  3.85541751], MSE = 44.0\n",
      "Iteration #120: W_new = [44.91409111  3.83941166], MSE = 43.98\n",
      "Iteration #130: W_new = [44.96943938  3.82937511], MSE = 43.97\n",
      "Iteration #140: W_new = [45.00414582  3.82308163], MSE = 43.97\n",
      "Iteration #150: W_new = [45.02590869  3.81913527], MSE = 43.97\n",
      "Iteration #160: W_new = [45.03955522  3.81666068], MSE = 43.97\n",
      "Iteration #170: W_new = [45.04811235  3.81510898], MSE = 43.97\n",
      "Iteration #180: W_new = [45.05347814  3.81413597], MSE = 43.97\n",
      "Iteration #190: W_new = [45.05684279  3.81352585], MSE = 43.97\n"
     ]
    }
   ],
   "source": [
    "n = X.shape[0]\n",
    "# после транспонирования матрица Х поменяла размерность и необходимо изменить ось по которой будет считаться n.\n",
    "\n",
    "eta = 0.01 \n",
    "n_iter = 200\n",
    "\n",
    "W = np.array([1, 0.5])\n",
    "print(f'Number of objects = {n} \\\n",
    "       \\nLearning rate = {eta} \\\n",
    "       \\nInitial weights = {W} \\n')\n",
    "\n",
    "for i in range(n_iter):\n",
    "    #  необходимо поменять местами матрицы при умножении\n",
    "    y_pred = np.dot(W, X)\n",
    "    err = calc_mse(y, y_pred)\n",
    "    W -= eta * (1/n * 2 * np.dot(X,(y_pred - y)))\n",
    "    if i % 10 == 0:\n",
    "        print(f'Iteration #{i}: W_new = {W}, MSE = {round(err,2)}')"
   ]
  },
  {
   "cell_type": "markdown",
   "metadata": {},
   "source": [
    "## 3*. Вместо того, чтобы задавать количество итераций, задайте другое условие останова алгоритма - когда веса перестают изменяться меньше определенного порога  𝜖 ."
   ]
  },
  {
   "cell_type": "code",
   "execution_count": 9,
   "metadata": {},
   "outputs": [],
   "source": [
    "err_list = [1,2,3]\n",
    "err = 1\n",
    "eta = 0.01 \n",
    "epsilon = 0.01"
   ]
  },
  {
   "cell_type": "code",
   "execution_count": 10,
   "metadata": {
    "scrolled": false
   },
   "outputs": [
    {
     "name": "stdout",
     "output_type": "stream",
     "text": [
      "Number of objects = 2        \n",
      "Learning rate = 0.01        \n",
      "Initial weights = [1.  0.5] \n",
      "\n",
      "Iteration #0: W_new = [ 6.4  19.35], MSE = 3047.75\n",
      "Iteration #10: W_new = [19.96966932  8.87179137], MSE = 379.6\n",
      "Iteration #20: W_new = [29.27719328  6.70531799], MSE = 172.93\n",
      "Iteration #30: W_new = [35.16120834  5.60976141], MSE = 94.66\n",
      "Iteration #40: W_new = [38.85365942  4.93848587], MSE = 63.9\n",
      "Iteration #50: W_new = [41.16920131  4.51849616], MSE = 51.81\n",
      "Iteration #60: W_new = [42.62118483  4.25519525], MSE = 47.05\n",
      "Iteration #70: W_new = [43.53165976  4.0900943 ], MSE = 45.18\n",
      "Iteration #80: W_new = [44.10257814  3.98656703], MSE = 44.45\n",
      "Iteration #90: W_new = [44.46057568  3.9216497 ], MSE = 44.16\n"
     ]
    }
   ],
   "source": [
    "n = X.shape[0]\n",
    "\n",
    "W = np.array([1, 0.5])\n",
    "print(f'Number of objects = {n} \\\n",
    "       \\nLearning rate = {eta} \\\n",
    "       \\nInitial weights = {W} \\n')\n",
    "\n",
    "\n",
    "\n",
    "for i in range(n_iter):\n",
    "    y_pred = np.dot(W, X)\n",
    "    err = calc_mse(y, y_pred)\n",
    "    W -= eta * (1/n * 2 * np.dot(X,(y_pred - y)))\n",
    "    \n",
    "    err_list.append(err)\n",
    "    \n",
    "    if i % 10 == 0:\n",
    "        print(f'Iteration #{i}: W_new = {W}, MSE = {round(err,2)}')\n",
    "        \n",
    "    if np.abs(round(err, 2) - round(err_list[-2], 2)) < epsilon :\n",
    "        break        \n"
   ]
  },
  {
   "cell_type": "code",
   "execution_count": null,
   "metadata": {},
   "outputs": [],
   "source": []
  },
  {
   "cell_type": "code",
   "execution_count": null,
   "metadata": {},
   "outputs": [],
   "source": []
  },
  {
   "cell_type": "code",
   "execution_count": null,
   "metadata": {},
   "outputs": [],
   "source": []
  }
 ],
 "metadata": {
  "kernelspec": {
   "display_name": "Python 3",
   "language": "python",
   "name": "python3"
  },
  "language_info": {
   "codemirror_mode": {
    "name": "ipython",
    "version": 3
   },
   "file_extension": ".py",
   "mimetype": "text/x-python",
   "name": "python",
   "nbconvert_exporter": "python",
   "pygments_lexer": "ipython3",
   "version": "3.7.7"
  }
 },
 "nbformat": 4,
 "nbformat_minor": 4
}
